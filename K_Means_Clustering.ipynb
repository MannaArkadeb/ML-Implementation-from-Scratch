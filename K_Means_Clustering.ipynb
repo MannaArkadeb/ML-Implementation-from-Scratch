{
 "cells": [
  {
   "cell_type": "code",
   "execution_count": 19,
   "id": "3939ecbb",
   "metadata": {},
   "outputs": [],
   "source": [
    "import pandas as pd\n",
    "import numpy as np"
   ]
  },
  {
   "cell_type": "code",
   "execution_count": 20,
   "id": "a8465ce7",
   "metadata": {},
   "outputs": [],
   "source": [
    "def accuracy(test_preds_label, y_test):\n",
    "    unique_labels = set(y_test) | set(test_preds_label)\n",
    "    conf_matrix = {pred: {actual: 0 for actual in unique_labels} for pred in unique_labels}\n",
    "    for pred, actual in zip(test_preds_label, y_test):\n",
    "        conf_matrix[pred][actual] += 1\n",
    "    correct = sum(conf_matrix[label][label] for label in unique_labels)\n",
    "    total = sum(sum(inner.values()) for inner in conf_matrix.values())\n",
    "    acc = correct / total\n",
    "    print(\"Confusion Matrix:\")\n",
    "    for pred in sorted(unique_labels):\n",
    "        row = [conf_matrix[pred][actual] for actual in sorted(unique_labels)]\n",
    "        print(f\"Pred {pred}: {row}\")\n",
    "    print(\"Accuracy :\", acc)"
   ]
  },
  {
   "cell_type": "code",
   "execution_count": 21,
   "id": "2060a878",
   "metadata": {},
   "outputs": [],
   "source": [
    "def model_predict(x_test, cluster_arr, c1, c2, c3, train):\n",
    "    cluster_to_label = {}\n",
    "    for cluster_num in [1, 2, 3]:\n",
    "        labels_in_cluster = train['species'].values[cluster_arr == cluster_num]\n",
    "        if len(labels_in_cluster) > 0:\n",
    "            label_counts = {}\n",
    "            for label in labels_in_cluster:\n",
    "                label_counts[label] = label_counts.get(label, 0) + 1\n",
    "            most_common = max(label_counts, key=label_counts.get)\n",
    "            cluster_to_label[cluster_num] = most_common\n",
    "\n",
    "    test_preds_cluster = []\n",
    "    for point in x_test:\n",
    "        d1 = np.linalg.norm(point - c1)\n",
    "        d2 = np.linalg.norm(point - c2)\n",
    "        d3 = np.linalg.norm(point - c3)\n",
    "        if d1 <= d2 and d1 <= d3:\n",
    "            test_preds_cluster.append(1)\n",
    "        elif d2 <= d1 and d2 <= d3:\n",
    "            test_preds_cluster.append(2)\n",
    "        else:\n",
    "            test_preds_cluster.append(3)\n",
    "\n",
    "    test_preds_label = [cluster_to_label[c] for c in test_preds_cluster]\n",
    "    return test_preds_label"
   ]
  },
  {
   "cell_type": "code",
   "execution_count": 22,
   "id": "8cb3ca4c",
   "metadata": {},
   "outputs": [],
   "source": [
    "def model_fit(train):\n",
    "    data = train.drop(columns=['species']).values.astype(float)\n",
    "\n",
    "    c1 = train.drop(columns=['species']).iloc[0].values\n",
    "    c2 = train.drop(columns=['species']).iloc[1].values\n",
    "    c3 = train.drop(columns=['species']).iloc[2].values\n",
    "\n",
    "    cluster_arr = np.full(shape=(data.shape[0],), fill_value=-1)\n",
    "    for i in range(data.shape[0]):\n",
    "        point = data[i]\n",
    "        d1 = np.linalg.norm(point - c1)\n",
    "        d2 = np.linalg.norm(point - c2)\n",
    "        d3 = np.linalg.norm(point - c3)\n",
    "        min_dist = min(d1, d2, d3)\n",
    "        if min_dist == d1:\n",
    "            cluster_arr[i] = 1\n",
    "        elif min_dist == d2:\n",
    "            cluster_arr[i] = 2\n",
    "        else:\n",
    "            cluster_arr[i] = 3\n",
    "\n",
    "    while True:\n",
    "        changed = 0\n",
    "        new_cluster_arr = np.full(shape=(data.shape[0],), fill_value=-1)\n",
    "\n",
    "        for i in range(data.shape[0]):\n",
    "            point = data[i]\n",
    "            d1 = np.linalg.norm(point - c1)\n",
    "            d2 = np.linalg.norm(point - c2)\n",
    "            d3 = np.linalg.norm(point - c3)\n",
    "\n",
    "            if d1 <= d2 and d1 <= d3:\n",
    "                new_cluster_arr[i] = 1\n",
    "            elif d2 <= d1 and d2 <= d3:\n",
    "                new_cluster_arr[i] = 2\n",
    "            else:\n",
    "                new_cluster_arr[i] = 3\n",
    "\n",
    "            if new_cluster_arr[i] != cluster_arr[i]:\n",
    "                changed += 1\n",
    "\n",
    "        cluster_arr = new_cluster_arr.copy()\n",
    "\n",
    "        c1_points = data[cluster_arr == 1]\n",
    "        c2_points = data[cluster_arr == 2]\n",
    "        c3_points = data[cluster_arr == 3]\n",
    "\n",
    "        c1_past, c2_past, c3_past = c1.copy(), c2.copy(), c3.copy()\n",
    "\n",
    "        if len(c1_points) > 0:\n",
    "            c1 = np.mean(c1_points, axis=0)\n",
    "        if len(c2_points) > 0:\n",
    "            c2 = np.mean(c2_points, axis=0)\n",
    "        if len(c3_points) > 0:\n",
    "            c3 = np.mean(c3_points, axis=0)\n",
    "\n",
    "        min_change_threshold = min(5, int(0.01 * data.shape[0]))\n",
    "        if (\n",
    "            np.linalg.norm(c1 - c1_past) < 0.01 and\n",
    "            np.linalg.norm(c2 - c2_past) < 0.01 and\n",
    "            np.linalg.norm(c3 - c3_past) < 0.01\n",
    "        ) or changed <= min_change_threshold:\n",
    "            break\n",
    "\n",
    "    return cluster_arr, c1, c2, c3"
   ]
  },
  {
   "cell_type": "code",
   "execution_count": 23,
   "id": "103ff044",
   "metadata": {},
   "outputs": [],
   "source": [
    "df = pd.read_csv(\"IRIS.xls\")\n",
    "unique_species = df['species'].unique()\n",
    "label_map = {label: idx for idx, label in enumerate(unique_species)}\n",
    "\n",
    "df['species'] = df['species'].map(label_map)"
   ]
  },
  {
   "cell_type": "code",
   "execution_count": 24,
   "id": "219247bc",
   "metadata": {},
   "outputs": [],
   "source": [
    "df_shuffled = df.sample(frac=1, random_state=42).reset_index(drop=True)\n",
    "train = df_shuffled.iloc[:120]\n",
    "test = df_shuffled.iloc[120:]"
   ]
  },
  {
   "cell_type": "code",
   "execution_count": 25,
   "id": "01c67ac4",
   "metadata": {},
   "outputs": [],
   "source": [
    "x_test = test.drop(columns=['species']).values.astype(float)\n",
    "y_test = test['species'].values"
   ]
  },
  {
   "cell_type": "code",
   "execution_count": 26,
   "id": "ebd09e39",
   "metadata": {},
   "outputs": [],
   "source": [
    "cluster_arr, c1, c2, c3 = model_fit(train)\n",
    "test_preds_label = model_predict(x_test, cluster_arr, c1, c2, c3, train)"
   ]
  },
  {
   "cell_type": "code",
   "execution_count": 27,
   "id": "e83a3a68",
   "metadata": {},
   "outputs": [
    {
     "name": "stdout",
     "output_type": "stream",
     "text": [
      "Confusion Matrix:\n",
      "Pred 0: [7, 0, 0]\n",
      "Pred 1: [0, 11, 5]\n",
      "Pred 2: [0, 0, 7]\n",
      "Accuracy : 0.8333333333333334\n"
     ]
    }
   ],
   "source": [
    "accuracy(test_preds_label, y_test)"
   ]
  }
 ],
 "metadata": {
  "kernelspec": {
   "display_name": "base",
   "language": "python",
   "name": "python3"
  },
  "language_info": {
   "codemirror_mode": {
    "name": "ipython",
    "version": 3
   },
   "file_extension": ".py",
   "mimetype": "text/x-python",
   "name": "python",
   "nbconvert_exporter": "python",
   "pygments_lexer": "ipython3",
   "version": "3.12.7"
  }
 },
 "nbformat": 4,
 "nbformat_minor": 5
}
